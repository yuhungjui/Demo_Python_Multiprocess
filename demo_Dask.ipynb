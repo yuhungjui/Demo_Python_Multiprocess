{
 "cells": [
  {
   "cell_type": "markdown",
   "metadata": {},
   "source": [
    "# Parallelization with Python (II):\n",
    "\n",
    "## Demo for basic Dask."
   ]
  },
  {
   "cell_type": "markdown",
   "metadata": {},
   "source": [
    "### Online resources:\n",
    "\n",
    "- https://tutorial.dask.org/\n",
    "\n",
    "### Hungjui Yu – 20240223"
   ]
  },
  {
   "cell_type": "markdown",
   "metadata": {},
   "source": [
    "***\n",
    "## <font color='maroon'>What is Dask?</font>\n",
    "\n",
    "- Dask is a parallel computing library that integrates seamlessly with popular Python libraries like NumPy, Pandas, and Scikit-Learn. It enables parallel and distributed computing on larger-than-memory datasets.\n",
    "\n",
    "## <font color='maroon'>What is Dask Arrays?</font>\n",
    "\n",
    "- Dask arrays provide parallelized and larger-than-memory computations on arrays. They closely resemble NumPy arrays but operate on larger datasets.\n"
   ]
  },
  {
   "cell_type": "code",
   "execution_count": 4,
   "metadata": {},
   "outputs": [],
   "source": [
    "import dask\n",
    "import dask.array as da\n",
    "from dask import delayed\n",
    "import numpy as np\n",
    "import time"
   ]
  },
  {
   "cell_type": "markdown",
   "metadata": {},
   "source": [
    "### Creating a Dask Array:"
   ]
  },
  {
   "cell_type": "code",
   "execution_count": 23,
   "metadata": {},
   "outputs": [
    {
     "data": {
      "text/html": [
       "<table>\n",
       "    <tr>\n",
       "        <td>\n",
       "            <table style=\"border-collapse: collapse;\">\n",
       "                <thead>\n",
       "                    <tr>\n",
       "                        <td> </td>\n",
       "                        <th> Array </th>\n",
       "                        <th> Chunk </th>\n",
       "                    </tr>\n",
       "                </thead>\n",
       "                <tbody>\n",
       "                    \n",
       "                    <tr>\n",
       "                        <th> Bytes </th>\n",
       "                        <td> 762.94 MiB </td>\n",
       "                        <td> 128.00 MiB </td>\n",
       "                    </tr>\n",
       "                    \n",
       "                    <tr>\n",
       "                        <th> Shape </th>\n",
       "                        <td> (10000, 10000) </td>\n",
       "                        <td> (4096, 4096) </td>\n",
       "                    </tr>\n",
       "                    <tr>\n",
       "                        <th> Dask graph </th>\n",
       "                        <td colspan=\"2\"> 9 chunks in 1 graph layer </td>\n",
       "                    </tr>\n",
       "                    <tr>\n",
       "                        <th> Data type </th>\n",
       "                        <td colspan=\"2\"> float64 numpy.ndarray </td>\n",
       "                    </tr>\n",
       "                </tbody>\n",
       "            </table>\n",
       "        </td>\n",
       "        <td>\n",
       "        <svg width=\"170\" height=\"170\" style=\"stroke:rgb(0,0,0);stroke-width:1\" >\n",
       "\n",
       "  <!-- Horizontal lines -->\n",
       "  <line x1=\"0\" y1=\"0\" x2=\"120\" y2=\"0\" style=\"stroke-width:2\" />\n",
       "  <line x1=\"0\" y1=\"49\" x2=\"120\" y2=\"49\" />\n",
       "  <line x1=\"0\" y1=\"98\" x2=\"120\" y2=\"98\" />\n",
       "  <line x1=\"0\" y1=\"120\" x2=\"120\" y2=\"120\" style=\"stroke-width:2\" />\n",
       "\n",
       "  <!-- Vertical lines -->\n",
       "  <line x1=\"0\" y1=\"0\" x2=\"0\" y2=\"120\" style=\"stroke-width:2\" />\n",
       "  <line x1=\"49\" y1=\"0\" x2=\"49\" y2=\"120\" />\n",
       "  <line x1=\"98\" y1=\"0\" x2=\"98\" y2=\"120\" />\n",
       "  <line x1=\"120\" y1=\"0\" x2=\"120\" y2=\"120\" style=\"stroke-width:2\" />\n",
       "\n",
       "  <!-- Colored Rectangle -->\n",
       "  <polygon points=\"0.0,0.0 120.0,0.0 120.0,120.0 0.0,120.0\" style=\"fill:#ECB172A0;stroke-width:0\"/>\n",
       "\n",
       "  <!-- Text -->\n",
       "  <text x=\"60.000000\" y=\"140.000000\" font-size=\"1.0rem\" font-weight=\"100\" text-anchor=\"middle\" >10000</text>\n",
       "  <text x=\"140.000000\" y=\"60.000000\" font-size=\"1.0rem\" font-weight=\"100\" text-anchor=\"middle\" transform=\"rotate(-90,140.000000,60.000000)\">10000</text>\n",
       "</svg>\n",
       "        </td>\n",
       "    </tr>\n",
       "</table>"
      ],
      "text/plain": [
       "dask.array<array, shape=(10000, 10000), dtype=float64, chunksize=(4096, 4096), chunktype=numpy.ndarray>"
      ]
     },
     "execution_count": 23,
     "metadata": {},
     "output_type": "execute_result"
    }
   ],
   "source": [
    "x = np.random.random((10000, 10000))\n",
    "\n",
    "x_dask_array = da.from_array(x, chunks='auto') #(500, 500))\n",
    "\n",
    "x_dask_array\n"
   ]
  },
  {
   "cell_type": "markdown",
   "metadata": {},
   "source": [
    "### Calculate as original numpy array:"
   ]
  },
  {
   "cell_type": "code",
   "execution_count": 24,
   "metadata": {},
   "outputs": [
    {
     "name": "stdout",
     "output_type": "stream",
     "text": [
      "1.0001521412513117\n",
      "Finished in 6.201 seconds.\n"
     ]
    }
   ],
   "source": [
    "start = time.time()\n",
    "\n",
    "y = (x + x.T).mean()\n",
    "print(y)\n",
    "\n",
    "end = time.time()\n",
    "print(f'Finished in {round(end-start, 3)} seconds.')"
   ]
  },
  {
   "cell_type": "markdown",
   "metadata": {},
   "source": [
    "### Calculate as Dask Array:"
   ]
  },
  {
   "cell_type": "code",
   "execution_count": 25,
   "metadata": {},
   "outputs": [
    {
     "name": "stdout",
     "output_type": "stream",
     "text": [
      "1.0001521412513161\n",
      "Finished in 1.283 seconds.\n"
     ]
    }
   ],
   "source": [
    "start = time.time()\n",
    "\n",
    "y_dask_array = (x_dask_array + x_dask_array.T).mean()\n",
    "result = y_dask_array.compute()\n",
    "print(result)\n",
    "\n",
    "end = time.time()\n",
    "print(f'Finished in {round(end-start, 3)} seconds.')"
   ]
  },
  {
   "cell_type": "markdown",
   "metadata": {},
   "source": [
    "***\n",
    "## <font color='maroon'>What is Dask Delayed?</font>\n",
    "\n",
    "- Dask Delayed is a Dask submodule that allows users to parallelize custom computations by delaying their execution until a later time.\n"
   ]
  },
  {
   "cell_type": "code",
   "execution_count": 31,
   "metadata": {},
   "outputs": [
    {
     "name": "stdout",
     "output_type": "stream",
     "text": [
      "13\n"
     ]
    }
   ],
   "source": [
    "@delayed\n",
    "def square(x):\n",
    "    return x ** 2\n",
    "\n",
    "def add(a, b):\n",
    "    return a + b\n",
    "\n",
    "# Delayed computation\n",
    "a = square(2)\n",
    "b = square(3)\n",
    "c = add(a, b)\n",
    "\n",
    "# Compute the result\n",
    "result_delayed = c.compute()\n",
    "print(result_delayed)"
   ]
  },
  {
   "cell_type": "code",
   "execution_count": 29,
   "metadata": {},
   "outputs": [
    {
     "name": "stdout",
     "output_type": "stream",
     "text": [
      "Without Dask Delayed - Result: 5, Elapsed Time: 0.0001 seconds\n"
     ]
    }
   ],
   "source": [
    "def simple_computation(a, b):\n",
    "    result = a + b\n",
    "    return result\n",
    "\n",
    "# Timing the computation without Dask Delayed\n",
    "start_time = time.time()\n",
    "result_without_delayed = simple_computation(2, 3)\n",
    "elapsed_time_without_delayed = time.time() - start_time\n",
    "\n",
    "print(f\"Without Dask Delayed - Result: {result_without_delayed}, Elapsed Time: {elapsed_time_without_delayed:.4f} seconds\")\n"
   ]
  },
  {
   "cell_type": "code",
   "execution_count": 30,
   "metadata": {},
   "outputs": [
    {
     "name": "stdout",
     "output_type": "stream",
     "text": [
      "With Dask Delayed - Result: 5, Elapsed Time: 0.0029 seconds\n"
     ]
    }
   ],
   "source": [
    "# Using Dask delayed to parallelize a simple computation\n",
    "@delayed\n",
    "def simple_computation_delayed(a, b):\n",
    "    result = a + b\n",
    "    return result\n",
    "\n",
    "# Timing the computation with Dask Delayed\n",
    "start_time = time.time()\n",
    "result_with_delayed = simple_computation_delayed(2, 3).compute()\n",
    "elapsed_time_with_delayed = time.time() - start_time\n",
    "\n",
    "print(f\"With Dask Delayed - Result: {result_with_delayed}, Elapsed Time: {elapsed_time_with_delayed:.4f} seconds\")\n"
   ]
  },
  {
   "cell_type": "markdown",
   "metadata": {},
   "source": [
    "***\n",
    "***\n",
    "# <font color='teal'>**Supplement:**</font>\n",
    "***\n",
    "***"
   ]
  },
  {
   "cell_type": "markdown",
   "metadata": {},
   "source": [
    "### Matrix Multiplication without Dask:"
   ]
  },
  {
   "cell_type": "code",
   "execution_count": 18,
   "metadata": {},
   "outputs": [
    {
     "name": "stdout",
     "output_type": "stream",
     "text": [
      "Without Dask - Elapsed Time: 4.2804 seconds\n"
     ]
    }
   ],
   "source": [
    "def matrix_multiply_np(size):\n",
    "    A = np.random.random((size, size))\n",
    "    B = np.random.random((size, size))\n",
    "    start_time = time.time()\n",
    "    result_np = np.dot(A, B)\n",
    "    elapsed_time = time.time() - start_time\n",
    "    return result_np, elapsed_time\n",
    "\n",
    "result_np, time_np = matrix_multiply_np(10000)\n",
    "\n",
    "print(f\"Without Dask - Elapsed Time: {time_np:.4f} seconds\")\n"
   ]
  },
  {
   "cell_type": "markdown",
   "metadata": {},
   "source": [
    "### Matrix Multiplication with Dask:"
   ]
  },
  {
   "cell_type": "code",
   "execution_count": 19,
   "metadata": {},
   "outputs": [
    {
     "name": "stdout",
     "output_type": "stream",
     "text": [
      "With Dask - Elapsed Time: 14.1037 seconds\n"
     ]
    }
   ],
   "source": [
    "def matrix_multiply_dask(size):\n",
    "    A = da.random.random((size, size), chunks='auto')\n",
    "    B = da.random.random((size, size), chunks='auto')\n",
    "    start_time = time.time()\n",
    "    result_dask = da.dot(A, B).compute()\n",
    "    elapsed_time = time.time() - start_time\n",
    "    return result_dask, elapsed_time\n",
    "\n",
    "result_dask, time_dask = matrix_multiply_dask(10000)\n",
    "\n",
    "print(f\"With Dask - Elapsed Time: {time_dask:.4f} seconds\")\n"
   ]
  },
  {
   "cell_type": "code",
   "execution_count": 1,
   "metadata": {},
   "outputs": [
    {
     "name": "stdout",
     "output_type": "stream",
     "text": [
      "Matrix Size: 1000x1000\n",
      "Without Dask:\n",
      "   Elapsed Time: 0.1801 seconds\n",
      "\n",
      "With Dask:\n",
      "   Elapsed Time: 0.9378 seconds\n",
      "\n",
      "The results differ.\n"
     ]
    }
   ],
   "source": [
    "# Importing Dask, NumPy, and other necessary libraries\n",
    "import dask\n",
    "import dask.array as da\n",
    "import numpy as np\n",
    "import time\n",
    "\n",
    "# Function to perform matrix multiplication without Dask\n",
    "def matrix_multiply_np(size):\n",
    "    np.random.seed(42)\n",
    "    A = np.random.random((size, size))\n",
    "    B = np.random.random((size, size))\n",
    "    \n",
    "    start_time = time.time()\n",
    "    result_np = np.dot(A, B)\n",
    "    elapsed_time = time.time() - start_time\n",
    "    \n",
    "    return result_np, elapsed_time\n",
    "\n",
    "# Function to perform matrix multiplication with Dask\n",
    "def matrix_multiply_dask(size, chunk_size):\n",
    "    da.random.seed(42)\n",
    "    A = da.random.random((size, size), chunks=(chunk_size, chunk_size))\n",
    "    B = da.random.random((size, size), chunks=(chunk_size, chunk_size))\n",
    "    \n",
    "    start_time = time.time()\n",
    "    result_dask = da.dot(A, B).compute()\n",
    "    elapsed_time = time.time() - start_time\n",
    "    \n",
    "    return result_dask, elapsed_time\n",
    "\n",
    "# Parameters\n",
    "matrix_size = 1000\n",
    "chunk_size = 500\n",
    "\n",
    "# Matrix multiplication without Dask\n",
    "result_np, time_np = matrix_multiply_np(matrix_size)\n",
    "\n",
    "# Matrix multiplication with Dask\n",
    "result_dask, time_dask = matrix_multiply_dask(matrix_size, chunk_size)\n",
    "\n",
    "# Display results and comparison\n",
    "print(f\"Matrix Size: {matrix_size}x{matrix_size}\")\n",
    "print(\"Without Dask:\")\n",
    "print(f\"   Elapsed Time: {time_np:.4f} seconds\")\n",
    "\n",
    "print(\"\\nWith Dask:\")\n",
    "print(f\"   Elapsed Time: {time_dask:.4f} seconds\")\n",
    "\n",
    "# Check if results are close (within a tolerance) due to potential floating-point differences\n",
    "if np.allclose(result_np, result_dask):\n",
    "    print(\"\\nThe results are close.\")\n",
    "else:\n",
    "    print(\"\\nThe results differ.\")\n",
    "\n"
   ]
  },
  {
   "cell_type": "code",
   "execution_count": null,
   "metadata": {},
   "outputs": [],
   "source": []
  }
 ],
 "metadata": {
  "kernelspec": {
   "display_name": "Python 3",
   "language": "python",
   "name": "python3"
  },
  "language_info": {
   "codemirror_mode": {
    "name": "ipython",
    "version": 3
   },
   "file_extension": ".py",
   "mimetype": "text/x-python",
   "name": "python",
   "nbconvert_exporter": "python",
   "pygments_lexer": "ipython3",
   "version": "3.8.5"
  }
 },
 "nbformat": 4,
 "nbformat_minor": 4
}
