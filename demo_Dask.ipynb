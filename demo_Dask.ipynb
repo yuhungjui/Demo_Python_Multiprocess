{
 "cells": [
  {
   "cell_type": "code",
   "execution_count": 1,
   "metadata": {},
   "outputs": [
    {
     "name": "stdout",
     "output_type": "stream",
     "text": [
      "Matrix Size: 1000x1000\n",
      "Without Dask:\n",
      "   Elapsed Time: 0.1801 seconds\n",
      "\n",
      "With Dask:\n",
      "   Elapsed Time: 0.9378 seconds\n",
      "\n",
      "The results differ.\n"
     ]
    }
   ],
   "source": [
    "# Importing Dask, NumPy, and other necessary libraries\n",
    "import dask\n",
    "import dask.array as da\n",
    "import numpy as np\n",
    "import time\n",
    "\n",
    "# Function to perform matrix multiplication without Dask\n",
    "def matrix_multiply_np(size):\n",
    "    np.random.seed(42)\n",
    "    A = np.random.random((size, size))\n",
    "    B = np.random.random((size, size))\n",
    "    \n",
    "    start_time = time.time()\n",
    "    result_np = np.dot(A, B)\n",
    "    elapsed_time = time.time() - start_time\n",
    "    \n",
    "    return result_np, elapsed_time\n",
    "\n",
    "# Function to perform matrix multiplication with Dask\n",
    "def matrix_multiply_dask(size, chunk_size):\n",
    "    da.random.seed(42)\n",
    "    A = da.random.random((size, size), chunks=(chunk_size, chunk_size))\n",
    "    B = da.random.random((size, size), chunks=(chunk_size, chunk_size))\n",
    "    \n",
    "    start_time = time.time()\n",
    "    result_dask = da.dot(A, B).compute()\n",
    "    elapsed_time = time.time() - start_time\n",
    "    \n",
    "    return result_dask, elapsed_time\n",
    "\n",
    "# Parameters\n",
    "matrix_size = 1000\n",
    "chunk_size = 500\n",
    "\n",
    "# Matrix multiplication without Dask\n",
    "result_np, time_np = matrix_multiply_np(matrix_size)\n",
    "\n",
    "# Matrix multiplication with Dask\n",
    "result_dask, time_dask = matrix_multiply_dask(matrix_size, chunk_size)\n",
    "\n",
    "# Display results and comparison\n",
    "print(f\"Matrix Size: {matrix_size}x{matrix_size}\")\n",
    "print(\"Without Dask:\")\n",
    "print(f\"   Elapsed Time: {time_np:.4f} seconds\")\n",
    "\n",
    "print(\"\\nWith Dask:\")\n",
    "print(f\"   Elapsed Time: {time_dask:.4f} seconds\")\n",
    "\n",
    "# Check if results are close (within a tolerance) due to potential floating-point differences\n",
    "if np.allclose(result_np, result_dask):\n",
    "    print(\"\\nThe results are close.\")\n",
    "else:\n",
    "    print(\"\\nThe results differ.\")\n",
    "\n"
   ]
  },
  {
   "cell_type": "code",
   "execution_count": null,
   "metadata": {},
   "outputs": [],
   "source": []
  }
 ],
 "metadata": {
  "kernelspec": {
   "display_name": "Python 3",
   "language": "python",
   "name": "python3"
  },
  "language_info": {
   "codemirror_mode": {
    "name": "ipython",
    "version": 3
   },
   "file_extension": ".py",
   "mimetype": "text/x-python",
   "name": "python",
   "nbconvert_exporter": "python",
   "pygments_lexer": "ipython3",
   "version": "3.8.5"
  }
 },
 "nbformat": 4,
 "nbformat_minor": 4
}
