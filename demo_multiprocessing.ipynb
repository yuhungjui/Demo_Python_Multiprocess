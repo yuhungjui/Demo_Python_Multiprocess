{
 "cells": [
  {
   "cell_type": "markdown",
   "metadata": {},
   "source": [
    "# Parallelization with Python:\n",
    "\n",
    "## Demo for basic multiprocessing on Maui.\n",
    "\n",
    "### Online resources:\n",
    "\n",
    "- https://sydney-informatics-hub.github.io/training.artemis.python/04-multiproc_mpi/index.html\n",
    "- https://superfastpython.com/multiprocessing-pool-python/\n",
    "- https://www.youtube.com/watch?v=fKl2JW_qrso\n",
    "- https://www.youtube.com/watch?v=X7vBbelRXn0\n",
    "\n",
    "### Hungjui Yu – 20231201"
   ]
  },
  {
   "cell_type": "markdown",
   "metadata": {},
   "source": [
    "***\n",
    "## Before we start ...\n",
    "\n",
    "### 1. There are many ways to speed-up your process (code).\n",
    "\n",
    "- Vectorisation\n",
    "    - use of `xarray` or `pandas`\n",
    "- `threading`\n",
    "    - for I/O-bound tasks\n",
    "- `dask`\n",
    "    - when memory could be an issue ...\n",
    "- ...\n",
    "\n",
    "### 2. Recognize your question first!\n",
    "- Identify your goal of the process.\n",
    "- Strategize the parallelization.\n",
    "- Coding!\n",
    "\n",
    "### 3. `multiprocessing` is not always the best way, sometime even embarassing. But personally speaking, the most straightforward.\n",
    "\n",
    "- 90% of my current parallelization processes count on `multiprocessing`.\n",
    "- Especially for *one-time* task, e.g. dataset produciton.\n"
   ]
  },
  {
   "cell_type": "markdown",
   "metadata": {},
   "source": [
    "***\n",
    "## Focus 1: `multiprocessing` basic."
   ]
  },
  {
   "cell_type": "code",
   "execution_count": 16,
   "metadata": {},
   "outputs": [
    {
     "name": "stdout",
     "output_type": "stream",
     "text": [
      "Once deleted, variables cannot be recovered. Proceed (y/[n])? y\n"
     ]
    }
   ],
   "source": [
    "%reset"
   ]
  },
  {
   "cell_type": "code",
   "execution_count": 17,
   "metadata": {},
   "outputs": [],
   "source": [
    "import time\n",
    "import multiprocessing as mp\n",
    "import numpy as np\n"
   ]
  },
  {
   "cell_type": "code",
   "execution_count": 18,
   "metadata": {},
   "outputs": [
    {
     "name": "stdout",
     "output_type": "stream",
     "text": [
      "Number of cpu :  40\n"
     ]
    }
   ],
   "source": [
    "print(\"Number of cpu : \", mp.cpu_count())"
   ]
  },
  {
   "cell_type": "markdown",
   "metadata": {},
   "source": [
    "### Our task:"
   ]
  },
  {
   "cell_type": "code",
   "execution_count": 19,
   "metadata": {},
   "outputs": [],
   "source": [
    "def task_1(inputs):\n",
    "    \n",
    "    print(f'Sleep for {inputs} seconds ... \\n')\n",
    "    \n",
    "    time.sleep(inputs)\n",
    "    \n",
    "    print(f'Wake up!')\n",
    "    "
   ]
  },
  {
   "cell_type": "markdown",
   "metadata": {},
   "source": [
    "### Our input:"
   ]
  },
  {
   "cell_type": "code",
   "execution_count": 20,
   "metadata": {},
   "outputs": [],
   "source": [
    "input_list = [10, 2, 3, 4, 5, 6, 7, 8, 9, 1]\n"
   ]
  },
  {
   "cell_type": "markdown",
   "metadata": {},
   "source": [
    "### When use `for`-loop:"
   ]
  },
  {
   "cell_type": "code",
   "execution_count": 6,
   "metadata": {},
   "outputs": [
    {
     "name": "stdout",
     "output_type": "stream",
     "text": [
      "Sleep for 1 seconds ... \n",
      "\n",
      "Wake up!\n",
      "Sleep for 2 seconds ... \n",
      "\n",
      "Wake up!\n",
      "Sleep for 3 seconds ... \n",
      "\n",
      "Wake up!\n",
      "Sleep for 4 seconds ... \n",
      "\n",
      "Wake up!\n",
      "Sleep for 5 seconds ... \n",
      "\n",
      "Wake up!\n",
      "Sleep for 6 seconds ... \n",
      "\n",
      "Wake up!\n",
      "Sleep for 7 seconds ... \n",
      "\n",
      "Wake up!\n",
      "Sleep for 8 seconds ... \n",
      "\n",
      "Wake up!\n",
      "Sleep for 9 seconds ... \n",
      "\n",
      "Wake up!\n",
      "Sleep for 10 seconds ... \n",
      "\n",
      "Wake up!\n",
      "Finished in 55.057 seconds.\n"
     ]
    }
   ],
   "source": [
    "start = time.time()\n",
    "\n",
    "for si in input_list:\n",
    "    task_1(si)\n",
    "\n",
    "end = time.time()\n",
    "\n",
    "print(f'Finished in {round(end-start, 3)} seconds.')"
   ]
  },
  {
   "cell_type": "markdown",
   "metadata": {},
   "source": [
    "### When use `multiprocessing`:"
   ]
  },
  {
   "cell_type": "code",
   "execution_count": 21,
   "metadata": {
    "scrolled": true
   },
   "outputs": [
    {
     "name": "stdout",
     "output_type": "stream",
     "text": [
      "Sleep for 2 seconds ... \n",
      "Sleep for 3 seconds ... \n",
      "Sleep for 10 seconds ... \n",
      "Sleep for 4 seconds ... \n",
      "Sleep for 5 seconds ... \n",
      "Sleep for 7 seconds ... \n",
      "Sleep for 8 seconds ... \n",
      "Sleep for 9 seconds ... \n",
      "Sleep for 6 seconds ... \n",
      "Sleep for 1 seconds ... \n",
      "\n",
      "\n",
      "\n",
      "\n",
      "\n",
      "\n",
      "\n",
      "\n",
      "\n",
      "\n",
      "Wake up!\n",
      "Wake up!\n",
      "Wake up!\n",
      "Wake up!\n",
      "Wake up!\n",
      "Wake up!\n",
      "Wake up!\n",
      "Wake up!\n",
      "Wake up!\n",
      "Wake up!\n",
      "Finished in 10.576 seconds.\n"
     ]
    }
   ],
   "source": [
    "start = time.time()\n",
    "\n",
    "with mp.Pool(processes=100) as pool:\n",
    "        pool.map(task_1, input_list)\n",
    "        pool.close()\n",
    "        pool.join()\n",
    "\n",
    "end = time.time()\n",
    "\n",
    "print(f'Finished in {round(end-start, 3)} seconds.')"
   ]
  },
  {
   "cell_type": "markdown",
   "metadata": {},
   "source": [
    "### Side notes:\n",
    "1. `pool.close()`:\n",
    "- It is used to prevent any more tasks from being submitted to the pool. After calling `close()`, no new tasks can be added to the pool. It's a signal to the pool that the input data has been given to the pool, and the pool should not accept any more task, i.e., no more `map()`.\n",
    "\n",
    "2. `pool.join()`:\n",
    "- It is used to wait for all the worker processes in the pool to complete their tasks and terminate. It blocks the program's execution until all tasks in the pool are done.\n",
    "- It's typically called after `close()` to wait for all the worker processes to finish before proceeding with the rest of the code."
   ]
  },
  {
   "cell_type": "markdown",
   "metadata": {},
   "source": [
    "### Python Example:\n",
    "```\n",
    "/home/hyu/Research_work/UW_GPM_TRMM_Cloud_Classification/NAM_CONUS/Data_Process_SMode_mnly_stats/obs_CSMode_mnly_stats_output_multip.py\n",
    "```"
   ]
  },
  {
   "cell_type": "markdown",
   "metadata": {},
   "source": [
    "***\n",
    "## Focus 2: `multiprocessing` with multiple inputs."
   ]
  },
  {
   "cell_type": "markdown",
   "metadata": {},
   "source": [
    "### Our task with multiple inputs:"
   ]
  },
  {
   "cell_type": "code",
   "execution_count": 12,
   "metadata": {},
   "outputs": [],
   "source": [
    "def task_2(input_1, input_2):\n",
    "    \n",
    "    print(f'Sleep for {input_1} seconds ... \\n')\n",
    "    \n",
    "    print(f'Answer is {input_1+input_2}.')\n",
    "    \n",
    "    time.sleep(input_1)\n",
    "    \n",
    "    print(f'Wake up!')\n",
    "    "
   ]
  },
  {
   "cell_type": "markdown",
   "metadata": {},
   "source": [
    "### Our multiple inputs:"
   ]
  },
  {
   "cell_type": "code",
   "execution_count": 13,
   "metadata": {},
   "outputs": [],
   "source": [
    "multiple_input_list = [(1, 2), (3, 4), (5, 6), (7, 8), (9, 10)]\n"
   ]
  },
  {
   "cell_type": "markdown",
   "metadata": {},
   "source": [
    "### When use `for`-loop:"
   ]
  },
  {
   "cell_type": "code",
   "execution_count": 14,
   "metadata": {},
   "outputs": [
    {
     "name": "stdout",
     "output_type": "stream",
     "text": [
      "Sleep for 1 seconds ... \n",
      "\n",
      "Answer is 3.\n",
      "Wake up!\n",
      "Sleep for 3 seconds ... \n",
      "\n",
      "Answer is 7.\n",
      "Wake up!\n",
      "Sleep for 5 seconds ... \n",
      "\n",
      "Answer is 11.\n",
      "Wake up!\n",
      "Sleep for 7 seconds ... \n",
      "\n",
      "Answer is 15.\n",
      "Wake up!\n",
      "Sleep for 9 seconds ... \n",
      "\n",
      "Answer is 19.\n",
      "Wake up!\n",
      "Finished in 25.027 seconds.\n"
     ]
    }
   ],
   "source": [
    "start = time.time()\n",
    "\n",
    "for (si, sj) in multiple_input_list:\n",
    "    task_2(si, sj)\n",
    "\n",
    "end = time.time()\n",
    "\n",
    "print(f'Finished in {round(end-start, 3)} seconds.')"
   ]
  },
  {
   "cell_type": "markdown",
   "metadata": {},
   "source": [
    "### When use `multiprocessing`:"
   ]
  },
  {
   "cell_type": "code",
   "execution_count": 15,
   "metadata": {
    "scrolled": true
   },
   "outputs": [
    {
     "name": "stdout",
     "output_type": "stream",
     "text": [
      "Sleep for 1 seconds ... \n",
      "Sleep for 7 seconds ... \n",
      "Sleep for 3 seconds ... \n",
      "Sleep for 5 seconds ... \n",
      "Sleep for 9 seconds ... \n",
      "\n",
      "\n",
      "\n",
      "\n",
      "\n",
      "Answer is 15.Answer is 3.Answer is 7.Answer is 11.\n",
      "Answer is 19.\n",
      "\n",
      "\n",
      "\n",
      "Wake up!\n",
      "Wake up!\n",
      "Wake up!\n",
      "Wake up!\n",
      "Wake up!\n",
      "Finished in 9.059 seconds.\n"
     ]
    }
   ],
   "source": [
    "start = time.time()\n",
    "\n",
    "with mp.Pool(processes=5) as pool:\n",
    "        pool.starmap(task_2, multiple_input_list)\n",
    "        pool.close()\n",
    "        pool.join()\n",
    "\n",
    "end = time.time()\n",
    "\n",
    "print(f'Finished in {round(end-start, 3)} seconds.')"
   ]
  },
  {
   "cell_type": "markdown",
   "metadata": {},
   "source": [
    "### Side notes:\n",
    "1. `pool.map`:\n",
    "- The `pool.map` method applies a given function to each element of a sequence (e.g., a list) and returns a list of the results in the same order as the input sequence. The function is applied to each element independently, and the order of results corresponds to the order of input elements.\n",
    "\n",
    "2. `pool.starmap`\n",
    "- The `pool.starmap` method is similar, but it accepts an iterable of argument tuples. Each tuple contains the arguments to be passed to the function for a single call.\n",
    "- This is particularly useful when the function takes multiple arguments, and you want to pass different sets of arguments for each function call."
   ]
  },
  {
   "cell_type": "markdown",
   "metadata": {},
   "source": [
    "***\n",
    "## Focus 3: practice on Maui."
   ]
  },
  {
   "cell_type": "markdown",
   "metadata": {},
   "source": [
    "### `qsub` script:"
   ]
  },
  {
   "cell_type": "markdown",
   "metadata": {},
   "source": [
    "```\n",
    "#!/bin/bash\n",
    "\n",
    "# Specifies the job's name, which controls the name of the output files.\n",
    "# Output files will be of the form <JOB NAME>.o<JOBID>, for example.\n",
    "#$ -N mcsm_T_NAM\n",
    "\n",
    "# Specifies the queue to wait in. The queue determines which cluster nodes\n",
    "# your job will be run on. We only have the all.q.\n",
    "#$ -q all.q\n",
    "\n",
    "# Specify the parallel environment to run in.\n",
    "#$ -pe mpi 20\n",
    "\n",
    "# Mail options\n",
    "#$ -m beas\n",
    "#$ -M hungjui@rams.colostate.edu\n",
    "\n",
    "# Redirect stdout and stderr (these are directories)\n",
    "#$ -o /home/hyu/Research_work/UW_GPM_TRMM_Cloud_Classification/NAM_CONUS/Data_Process_SMode_mnly_stats/mcsm_T_NAM_out\n",
    "#$ -e /home/hyu/Research_work/UW_GPM_TRMM_Cloud_Classification/NAM_CONUS/Data_Process_SMode_mnly_stats/mcsm_T_NAM_err\n",
    "\n",
    "# ---END OF GRID ENGINE OPTIONS---\n",
    "\n",
    "# When grid engine starts your job, the current directory will be your\n",
    "# home directory. You may want to go to another directory. Uncomment the\n",
    "# line below and edit the directory name.\n",
    "\n",
    "cd /home/hyu/Research_work/UW_GPM_TRMM_Cloud_Classification/NAM_CONUS/Data_Process_SMode_mnly_stats/\n",
    "\n",
    "# The actual command to run\n",
    "\n",
    "export OMP_NUM_THREADS=20\n",
    "\n",
    "python obs_CSMode_mnly_stats_output_multip.py 199801 201410 TRMM NAM\n",
    "```"
   ]
  },
  {
   "cell_type": "markdown",
   "metadata": {},
   "source": [
    "***\n",
    "***\n",
    "# <font color='teal'>**Supplement:**</font>\n",
    "***\n",
    "***"
   ]
  },
  {
   "cell_type": "markdown",
   "metadata": {},
   "source": [
    "***\n",
    "## Focus 4: an alternative use."
   ]
  },
  {
   "cell_type": "markdown",
   "metadata": {},
   "source": [
    "### Our task with multiple inputs:"
   ]
  },
  {
   "cell_type": "code",
   "execution_count": null,
   "metadata": {},
   "outputs": [],
   "source": [
    "def task_4(index, arr):\n",
    "    \n",
    "    print(f'Sleep for {index} seconds ... \\n')\n",
    "    \n",
    "    arr[index] = index * index\n",
    "\n",
    "    time.sleep(index)\n",
    "    \n",
    "    print(f'Wake up!')\n",
    "    "
   ]
  },
  {
   "cell_type": "markdown",
   "metadata": {},
   "source": [
    "### Our multiple inputs:"
   ]
  },
  {
   "cell_type": "code",
   "execution_count": null,
   "metadata": {},
   "outputs": [],
   "source": [
    "input_list = [1, 2, 3, 4, 5]\n"
   ]
  },
  {
   "cell_type": "markdown",
   "metadata": {},
   "source": [
    "### When use `multiprocessing`:"
   ]
  },
  {
   "cell_type": "code",
   "execution_count": null,
   "metadata": {
    "scrolled": true
   },
   "outputs": [],
   "source": [
    "start = time.time()\n",
    "\n",
    "shared_array = mp.Array('d', 5)\n",
    "\n",
    "with mp.Pool() as pool:\n",
    "        pool.starmap(task_4, [(i, shared_array) for i in input_list])\n",
    "        pool.close()\n",
    "        pool.join()\n",
    "\n",
    "end = time.time()\n",
    "\n",
    "print(f'Finished in {round(end-start, 3)} seconds.')\n",
    "\n",
    "print(f'The result: {list(shared_array)}')\n"
   ]
  },
  {
   "cell_type": "code",
   "execution_count": null,
   "metadata": {},
   "outputs": [],
   "source": []
  }
 ],
 "metadata": {
  "kernelspec": {
   "display_name": "env",
   "language": "python",
   "name": "env"
  },
  "language_info": {
   "codemirror_mode": {
    "name": "ipython",
    "version": 3
   },
   "file_extension": ".py",
   "mimetype": "text/x-python",
   "name": "python",
   "nbconvert_exporter": "python",
   "pygments_lexer": "ipython3",
   "version": "3.9.18"
  }
 },
 "nbformat": 4,
 "nbformat_minor": 5
}
