{
 "cells": [
  {
   "cell_type": "markdown",
   "metadata": {},
   "source": [
    "# Parallelization with Python (II):\n",
    "\n",
    "## Demo for basic Dask."
   ]
  },
  {
   "cell_type": "markdown",
   "metadata": {},
   "source": [
    "### Online resources:\n",
    "\n",
    "- https://tutorial.dask.org/\n",
    "\n",
    "### Hungjui Yu – 20240223"
   ]
  },
  {
   "cell_type": "markdown",
   "metadata": {},
   "source": [
    "***\n",
    "## <font color='maroon'>What is Dask?</font>\n",
    "\n",
    "- Dask is a parallel computing library that integrates seamlessly with popular Python libraries like NumPy, Pandas, and Scikit-Learn. It enables parallel and distributed computing on larger-than-memory datasets.\n",
    "\n",
    "## <font color='maroon'>What is Dask Arrays?</font>\n",
    "\n",
    "- Dask arrays provide parallelized and larger-than-memory computations on arrays. They closely resemble NumPy arrays but operate on larger datasets.\n"
   ]
  },
  {
   "cell_type": "markdown",
   "metadata": {},
   "source": [
    "***\n",
    "## <font color='maroon'>Focus 1.</font> `dask` basic."
   ]
  },
  {
   "cell_type": "code",
   "execution_count": 5,
   "metadata": {},
   "outputs": [
    {
     "name": "stdout",
     "output_type": "stream",
     "text": [
      "Once deleted, variables cannot be recovered. Proceed (y/[n])? y\n"
     ]
    }
   ],
   "source": [
    "%reset"
   ]
  },
  {
   "cell_type": "code",
   "execution_count": 6,
   "metadata": {},
   "outputs": [],
   "source": [
    "import dask\n",
    "import dask.array as da\n",
    "from dask import delayed\n",
    "import numpy as np\n",
    "import time"
   ]
  },
  {
   "cell_type": "code",
   "execution_count": 7,
   "metadata": {},
   "outputs": [],
   "source": [
    "from memory_profiler import profile\n",
    "%load_ext memory_profiler"
   ]
  },
  {
   "cell_type": "markdown",
   "metadata": {},
   "source": [
    "### Creating a Dask Array:"
   ]
  },
  {
   "cell_type": "code",
   "execution_count": null,
   "metadata": {},
   "outputs": [],
   "source": [
    "x = np.random.random((10000, 10000))\n",
    "\n",
    "# x_dask_array = da.from_array(x, chunks='auto')\n",
    "x_dask_array = da.from_array(x, chunks=(500, 500))\n",
    "\n",
    "\n",
    "x_dask_array\n"
   ]
  },
  {
   "cell_type": "markdown",
   "metadata": {},
   "source": [
    "### Calculate as original numpy array:"
   ]
  },
  {
   "cell_type": "code",
   "execution_count": null,
   "metadata": {},
   "outputs": [],
   "source": [
    "code_block = '''\n",
    "def use_np_array():\n",
    "\n",
    "    start = time.time()\n",
    "\n",
    "    y = (x + x.T).mean()\n",
    "    print(y)\n",
    "\n",
    "    end = time.time()\n",
    "    print(f'Finished in {round(end-start, 3)} seconds.')\n",
    "    \n",
    "use_np_array()\n",
    "'''\n",
    "\n",
    "%memit exec(code_block)\n"
   ]
  },
  {
   "cell_type": "markdown",
   "metadata": {},
   "source": [
    "### Calculate as Dask Array:"
   ]
  },
  {
   "cell_type": "code",
   "execution_count": null,
   "metadata": {},
   "outputs": [],
   "source": [
    "code_block = '''\n",
    "def use_dask_array():\n",
    "    start = time.time()\n",
    "\n",
    "    y_dask_array = (x_dask_array + x_dask_array.T).mean()\n",
    "    result = y_dask_array.compute()\n",
    "    print(result)\n",
    "\n",
    "    end = time.time()\n",
    "    print(f'Finished in {round(end-start, 3)} seconds.')\n",
    "    \n",
    "use_dask_array()\n",
    "'''\n",
    "\n",
    "%memit exec(code_block)\n"
   ]
  },
  {
   "cell_type": "markdown",
   "metadata": {},
   "source": [
    "### Side notes:\n",
    "\n",
    "- **Adaptability to Resources:** When you set `chunk='auto'`, Dask automatically determines the chunk sizes based on the shape of the input array and the available resources.\n",
    "\n",
    "- **Efficient Parallelization:** Dask is designed to parallelize computations across multiple cores or nodes in a cluster. By automatically determining chunk sizes, Dask can distribute the computation efficiently, minimizing communication overhead and maximizing parallelism.\n",
    "\n",
    "- **Ease of Use:** Using `chunk='auto'` simplifies the creation of Dask arrays. You don't need to manually specify chunk sizes. But there might be cases where manually specifying chunk sizes based on your specific computation needs could lead to further optimization. It's often a good idea to experiment with different chunking strategies to find the most suitable configuration for your particular use case."
   ]
  },
  {
   "cell_type": "markdown",
   "metadata": {},
   "source": [
    "***\n",
    "## <font color='maroon'>Focus 2.</font> `dask.delayed`"
   ]
  },
  {
   "cell_type": "markdown",
   "metadata": {},
   "source": [
    "## <font color='maroon'>What is Dask Delayed?</font>\n",
    "\n",
    "- Dask Delayed is a Dask submodule that allows users to parallelize custom computations by delaying their execution until a later time.\n",
    "\n",
    "- Instead of executing a function immediately, you create a delayed version of the function using `dask.delayed`. This delayed function represents the computation to be performed."
   ]
  },
  {
   "cell_type": "markdown",
   "metadata": {},
   "source": [
    "### Creating a expensive computation:"
   ]
  },
  {
   "cell_type": "code",
   "execution_count": 8,
   "metadata": {},
   "outputs": [],
   "source": [
    "def expensive_computation(x):\n",
    "    time.sleep(1)\n",
    "    return x ** 2\n",
    "\n",
    "numbers = [1, 2, 3, 4, 5]\n"
   ]
  },
  {
   "cell_type": "markdown",
   "metadata": {},
   "source": [
    "### Calculate using for loop:"
   ]
  },
  {
   "cell_type": "code",
   "execution_count": 6,
   "metadata": {},
   "outputs": [
    {
     "name": "stdout",
     "output_type": "stream",
     "text": [
      "Eager Results: [1, 4, 9, 16, 25]\n",
      "Finished in 5.005 seconds.\n"
     ]
    }
   ],
   "source": [
    "start = time.time()\n",
    "\n",
    "eager_results = [expensive_computation(num) for num in numbers]\n",
    "\n",
    "end = time.time()\n",
    "\n",
    "print(\"Eager Results:\", eager_results)\n",
    "print(f'Finished in {round(end-start, 3)} seconds.')\n"
   ]
  },
  {
   "cell_type": "markdown",
   "metadata": {},
   "source": [
    "### Calculate using `dask.delayed`:"
   ]
  },
  {
   "cell_type": "code",
   "execution_count": 7,
   "metadata": {},
   "outputs": [
    {
     "name": "stdout",
     "output_type": "stream",
     "text": [
      "Lazy Computed Results: (1, 4, 9, 16, 25)\n",
      "Finished in 1.224 seconds.\n"
     ]
    }
   ],
   "source": [
    "lazy_results = [dask.delayed(expensive_computation)(num) for num in numbers]\n",
    "\n",
    "start = time.time()\n",
    "\n",
    "lazy_computed = dask.compute(*lazy_results)\n",
    "\n",
    "end = time.time()\n",
    "\n",
    "print(\"Lazy Computed Results:\", lazy_computed)\n",
    "print(f'Finished in {round(end-start, 3)} seconds.')"
   ]
  },
  {
   "cell_type": "markdown",
   "metadata": {},
   "source": [
    "### Side notes:\n",
    "\n",
    "#### Lazy Evaluation with `dask.delayed`:\n",
    "\n",
    "- Tasks are represented as a graph, allowing for optimized execution.\n",
    "\n",
    "- The computations are not executed until explicitly triggered with `dask.compute`.\n",
    "\n",
    "- Enables potential parallelism and optimization, suitable for large-scale computations.\n"
   ]
  },
  {
   "cell_type": "markdown",
   "metadata": {},
   "source": [
    "### Python Example:\n",
    "\n",
    "```python\n",
    "dask_alt = da.from_array(alt, chunks=(81, 500, 500))\n",
    "dask_lat = da.from_array(lat, chunks=(81, 500, 500))\n",
    "dask_lon = da.from_array(lon, chunks=(81, 500, 500))\n",
    "\n",
    "## Function to convert to the 3D ECEF coordinates:\n",
    "\n",
    "def convert_ecef_coords(lat_arr, lon_arr, alt_arr):\n",
    "    ecef_x, ecef_y, ecef_z = pm3.geodetic2ecef(lat_arr, lon_arr, alt_arr, ell=None, deg=True)\n",
    "    return ecef_x, ecef_y, ecef_z\n",
    "\n",
    "## Apply function to Dask arrays:\n",
    "\n",
    "lazy_results = dask.delayed(convert_ecef_coords)(dask_lat, dask_lon, dask_alt)\n",
    "\n",
    "ecef_x, ecef_y, ecef_z = lazy_results.compute()\n",
    "\n",
    "```"
   ]
  },
  {
   "cell_type": "markdown",
   "metadata": {},
   "source": [
    "***\n",
    "## <font color='maroon'>Focus 3.</font> shared array computation."
   ]
  },
  {
   "cell_type": "markdown",
   "metadata": {},
   "source": [
    "### Calculate using for loop:"
   ]
  },
  {
   "cell_type": "code",
   "execution_count": 10,
   "metadata": {},
   "outputs": [],
   "source": [
    "def numpy_shared_array_calculation(array_size):\n",
    "    shared_array = np.zeros(array_size, dtype=float)\n",
    "\n",
    "    for i in range(array_size):\n",
    "        shared_array[i] = expensive_computation(i)\n",
    "    \n",
    "    return shared_array"
   ]
  },
  {
   "cell_type": "code",
   "execution_count": 11,
   "metadata": {},
   "outputs": [
    {
     "name": "stdout",
     "output_type": "stream",
     "text": [
      "NumPy Result: [ 0.  1.  4.  9. 16. 25. 36. 49. 64. 81.]\n",
      "NumPy Execution Time: 10.010547637939453\n"
     ]
    }
   ],
   "source": [
    "array_size = 10\n",
    "\n",
    "start_time = time.time()\n",
    "\n",
    "numpy_result = numpy_shared_array_calculation(array_size)\n",
    "\n",
    "numpy_execution_time = time.time() - start_time\n",
    "\n",
    "print(\"NumPy Result:\", numpy_result)\n",
    "print(\"NumPy Execution Time:\", numpy_execution_time)\n"
   ]
  },
  {
   "cell_type": "markdown",
   "metadata": {},
   "source": [
    "### Calculate using dask:"
   ]
  },
  {
   "cell_type": "code",
   "execution_count": 12,
   "metadata": {},
   "outputs": [],
   "source": [
    "def dask_shared_array_calculation(array_size):\n",
    "\n",
    "    shared_array = da.arange(array_size, dtype=float)\n",
    "    \n",
    "    result = da.map_blocks(expensive_computation, shared_array, dtype=float)\n",
    "    \n",
    "    return result.compute()"
   ]
  },
  {
   "cell_type": "code",
   "execution_count": 14,
   "metadata": {},
   "outputs": [
    {
     "name": "stdout",
     "output_type": "stream",
     "text": [
      "Dask Result: [ 0.  1.  4.  9. 16. 25. 36. 49. 64. 81.]\n",
      "Dask Execution Time: 2.006019115447998\n"
     ]
    }
   ],
   "source": [
    "array_size = 10\n",
    "\n",
    "start_time = time.time()\n",
    "\n",
    "dask_result = dask_shared_array_calculation(array_size)\n",
    "\n",
    "dask_execution_time = time.time() - start_time\n",
    "\n",
    "print(\"Dask Result:\", dask_result)\n",
    "print(\"Dask Execution Time:\", dask_execution_time)\n"
   ]
  },
  {
   "cell_type": "markdown",
   "metadata": {},
   "source": [
    "### Side notes:\n",
    "\n",
    "#### `dask.array.map_blocks`:\n",
    "\n",
    "- It allows you to apply a function independently to blocks of a Dask array, facilitating parallel processing and distributed computing.\n",
    "\n",
    "- It creates a new Dask array representing the result of applying the specified function to each block of the original array. It operates lazily, meaning the computation is not performed until explicitly requested (e.g., by calling `compute()`).\n",
    "\n",
    "- This function is particularly useful for element-wise operations where the computation can be parallelized across blocks of the array. It can be applied to large datasets that do not fit into memory and can be efficiently distributed across multiple cores or nodes in a cluster."
   ]
  },
  {
   "cell_type": "markdown",
   "metadata": {},
   "source": [
    "***\n",
    "## <font color='maroon'>Recap:</font>"
   ]
  },
  {
   "cell_type": "markdown",
   "metadata": {},
   "source": [
    "### `dask`:\n",
    "\n",
    "#### 1. `dask.array.from_array( ..., chunks='')`\n",
    "\n",
    "#### 2. `dask.delayed()`\n",
    "\n",
    "#### 3. `dask.compute()`\n",
    "\n",
    "#### 4. `dask.array.map_blocks`"
   ]
  },
  {
   "cell_type": "markdown",
   "metadata": {},
   "source": [
    "***\n",
    "***\n",
    "# <font color='teal'>**Supplement:**</font>\n",
    "***\n",
    "***"
   ]
  },
  {
   "cell_type": "code",
   "execution_count": null,
   "metadata": {},
   "outputs": [],
   "source": [
    "@profile\n",
    "def use_np_array():\n",
    "\n",
    "    start = time.time()\n",
    "\n",
    "    y = (x + x.T).mean()\n",
    "    print(y)\n",
    "\n",
    "    end = time.time()\n",
    "    print(f'Finished in {round(end-start, 3)} seconds.')\n",
    "    \n",
    "%mprun -f use_np_array use_np_array()\n"
   ]
  },
  {
   "cell_type": "code",
   "execution_count": 8,
   "metadata": {},
   "outputs": [
    {
     "name": "stdout",
     "output_type": "stream",
     "text": [
      "13\n"
     ]
    }
   ],
   "source": [
    "@delayed\n",
    "def square(x):\n",
    "    return x ** 2\n",
    "\n",
    "def add(a, b):\n",
    "    return a + b\n",
    "\n",
    "# Delayed computation\n",
    "a = square(2)\n",
    "b = square(3)\n",
    "c = add(a, b)\n",
    "\n",
    "# Compute the result\n",
    "result_delayed = c.compute()\n",
    "print(result_delayed)"
   ]
  },
  {
   "cell_type": "code",
   "execution_count": null,
   "metadata": {},
   "outputs": [],
   "source": [
    "def simple_computation(a, b):\n",
    "    result = a + b\n",
    "    return result\n",
    "\n",
    "# Timing the computation without Dask Delayed\n",
    "start_time = time.time()\n",
    "result_without_delayed = simple_computation(2, 3)\n",
    "elapsed_time_without_delayed = time.time() - start_time\n",
    "\n",
    "print(f\"Without Dask Delayed - Result: {result_without_delayed}, Elapsed Time: {elapsed_time_without_delayed:.4f} seconds\")\n"
   ]
  },
  {
   "cell_type": "code",
   "execution_count": null,
   "metadata": {},
   "outputs": [],
   "source": [
    "# Using Dask delayed to parallelize a simple computation\n",
    "@delayed\n",
    "def simple_computation_delayed(a, b):\n",
    "    result = a + b\n",
    "    return result\n",
    "\n",
    "# Timing the computation with Dask Delayed\n",
    "start_time = time.time()\n",
    "result_with_delayed = simple_computation_delayed(2, 3).compute()\n",
    "elapsed_time_with_delayed = time.time() - start_time\n",
    "\n",
    "print(f\"With Dask Delayed - Result: {result_with_delayed}, Elapsed Time: {elapsed_time_with_delayed:.4f} seconds\")\n"
   ]
  },
  {
   "cell_type": "markdown",
   "metadata": {},
   "source": [
    "### Matrix Multiplication without Dask:"
   ]
  },
  {
   "cell_type": "code",
   "execution_count": null,
   "metadata": {},
   "outputs": [],
   "source": [
    "def matrix_multiply_np(size):\n",
    "    A = np.random.random((size, size))\n",
    "    B = np.random.random((size, size))\n",
    "    start_time = time.time()\n",
    "    result_np = np.dot(A, B)\n",
    "    elapsed_time = time.time() - start_time\n",
    "    return result_np, elapsed_time\n",
    "\n",
    "result_np, time_np = matrix_multiply_np(10000)\n",
    "\n",
    "print(f\"Without Dask - Elapsed Time: {time_np:.4f} seconds\")\n"
   ]
  },
  {
   "cell_type": "markdown",
   "metadata": {},
   "source": [
    "### Matrix Multiplication with Dask:"
   ]
  },
  {
   "cell_type": "code",
   "execution_count": null,
   "metadata": {},
   "outputs": [],
   "source": [
    "def matrix_multiply_dask(size):\n",
    "    A = da.random.random((size, size), chunks='auto')\n",
    "    B = da.random.random((size, size), chunks='auto')\n",
    "    start_time = time.time()\n",
    "    result_dask = da.dot(A, B).compute()\n",
    "    elapsed_time = time.time() - start_time\n",
    "    return result_dask, elapsed_time\n",
    "\n",
    "result_dask, time_dask = matrix_multiply_dask(10000)\n",
    "\n",
    "print(f\"With Dask - Elapsed Time: {time_dask:.4f} seconds\")\n"
   ]
  },
  {
   "cell_type": "code",
   "execution_count": null,
   "metadata": {},
   "outputs": [],
   "source": [
    "# Importing Dask, NumPy, and other necessary libraries\n",
    "import dask\n",
    "import dask.array as da\n",
    "import numpy as np\n",
    "import time\n",
    "\n",
    "# Function to perform matrix multiplication without Dask\n",
    "def matrix_multiply_np(size):\n",
    "    np.random.seed(42)\n",
    "    A = np.random.random((size, size))\n",
    "    B = np.random.random((size, size))\n",
    "    \n",
    "    start_time = time.time()\n",
    "    result_np = np.dot(A, B)\n",
    "    elapsed_time = time.time() - start_time\n",
    "    \n",
    "    return result_np, elapsed_time\n",
    "\n",
    "# Function to perform matrix multiplication with Dask\n",
    "def matrix_multiply_dask(size, chunk_size):\n",
    "    da.random.seed(42)\n",
    "    A = da.random.random((size, size), chunks=(chunk_size, chunk_size))\n",
    "    B = da.random.random((size, size), chunks=(chunk_size, chunk_size))\n",
    "    \n",
    "    start_time = time.time()\n",
    "    result_dask = da.dot(A, B).compute()\n",
    "    elapsed_time = time.time() - start_time\n",
    "    \n",
    "    return result_dask, elapsed_time\n",
    "\n",
    "# Parameters\n",
    "matrix_size = 1000\n",
    "chunk_size = 500\n",
    "\n",
    "# Matrix multiplication without Dask\n",
    "result_np, time_np = matrix_multiply_np(matrix_size)\n",
    "\n",
    "# Matrix multiplication with Dask\n",
    "result_dask, time_dask = matrix_multiply_dask(matrix_size, chunk_size)\n",
    "\n",
    "# Display results and comparison\n",
    "print(f\"Matrix Size: {matrix_size}x{matrix_size}\")\n",
    "print(\"Without Dask:\")\n",
    "print(f\"   Elapsed Time: {time_np:.4f} seconds\")\n",
    "\n",
    "print(\"\\nWith Dask:\")\n",
    "print(f\"   Elapsed Time: {time_dask:.4f} seconds\")\n",
    "\n",
    "# Check if results are close (within a tolerance) due to potential floating-point differences\n",
    "if np.allclose(result_np, result_dask):\n",
    "    print(\"\\nThe results are close.\")\n",
    "else:\n",
    "    print(\"\\nThe results differ.\")\n",
    "\n"
   ]
  },
  {
   "cell_type": "code",
   "execution_count": null,
   "metadata": {},
   "outputs": [],
   "source": []
  }
 ],
 "metadata": {
  "kernelspec": {
   "display_name": "Python 3",
   "language": "python",
   "name": "python3"
  },
  "language_info": {
   "codemirror_mode": {
    "name": "ipython",
    "version": 3
   },
   "file_extension": ".py",
   "mimetype": "text/x-python",
   "name": "python",
   "nbconvert_exporter": "python",
   "pygments_lexer": "ipython3",
   "version": "3.8.5"
  }
 },
 "nbformat": 4,
 "nbformat_minor": 4
}
